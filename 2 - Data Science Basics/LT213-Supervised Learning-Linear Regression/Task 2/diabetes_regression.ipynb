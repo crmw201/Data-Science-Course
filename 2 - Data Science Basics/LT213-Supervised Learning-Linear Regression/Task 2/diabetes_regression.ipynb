{
 "cells": [
  {
   "cell_type": "code",
   "execution_count": 37,
   "metadata": {},
   "outputs": [
    {
     "data": {
      "text/html": [
       "<div>\n",
       "<style scoped>\n",
       "    .dataframe tbody tr th:only-of-type {\n",
       "        vertical-align: middle;\n",
       "    }\n",
       "\n",
       "    .dataframe tbody tr th {\n",
       "        vertical-align: top;\n",
       "    }\n",
       "\n",
       "    .dataframe thead th {\n",
       "        text-align: right;\n",
       "    }\n",
       "</style>\n",
       "<table border=\"1\" class=\"dataframe\">\n",
       "  <thead>\n",
       "    <tr style=\"text-align: right;\">\n",
       "      <th></th>\n",
       "      <th>AGE</th>\n",
       "      <th>SEX</th>\n",
       "      <th>BMI</th>\n",
       "      <th>BP</th>\n",
       "      <th>S1</th>\n",
       "      <th>S2</th>\n",
       "      <th>S3</th>\n",
       "      <th>S4</th>\n",
       "      <th>S5</th>\n",
       "      <th>S6</th>\n",
       "      <th>PROGRESSION</th>\n",
       "    </tr>\n",
       "  </thead>\n",
       "  <tbody>\n",
       "    <tr>\n",
       "      <th>0</th>\n",
       "      <td>59</td>\n",
       "      <td>2</td>\n",
       "      <td>32.1</td>\n",
       "      <td>101.0</td>\n",
       "      <td>157</td>\n",
       "      <td>93.2</td>\n",
       "      <td>38.0</td>\n",
       "      <td>4.0</td>\n",
       "      <td>4.8598</td>\n",
       "      <td>87</td>\n",
       "      <td>151</td>\n",
       "    </tr>\n",
       "    <tr>\n",
       "      <th>1</th>\n",
       "      <td>48</td>\n",
       "      <td>1</td>\n",
       "      <td>21.6</td>\n",
       "      <td>87.0</td>\n",
       "      <td>183</td>\n",
       "      <td>103.2</td>\n",
       "      <td>70.0</td>\n",
       "      <td>3.0</td>\n",
       "      <td>3.8918</td>\n",
       "      <td>69</td>\n",
       "      <td>75</td>\n",
       "    </tr>\n",
       "    <tr>\n",
       "      <th>2</th>\n",
       "      <td>72</td>\n",
       "      <td>2</td>\n",
       "      <td>30.5</td>\n",
       "      <td>93.0</td>\n",
       "      <td>156</td>\n",
       "      <td>93.6</td>\n",
       "      <td>41.0</td>\n",
       "      <td>4.0</td>\n",
       "      <td>4.6728</td>\n",
       "      <td>85</td>\n",
       "      <td>141</td>\n",
       "    </tr>\n",
       "    <tr>\n",
       "      <th>3</th>\n",
       "      <td>24</td>\n",
       "      <td>1</td>\n",
       "      <td>25.3</td>\n",
       "      <td>84.0</td>\n",
       "      <td>198</td>\n",
       "      <td>131.4</td>\n",
       "      <td>40.0</td>\n",
       "      <td>5.0</td>\n",
       "      <td>4.8903</td>\n",
       "      <td>89</td>\n",
       "      <td>206</td>\n",
       "    </tr>\n",
       "    <tr>\n",
       "      <th>4</th>\n",
       "      <td>50</td>\n",
       "      <td>1</td>\n",
       "      <td>23.0</td>\n",
       "      <td>101.0</td>\n",
       "      <td>192</td>\n",
       "      <td>125.4</td>\n",
       "      <td>52.0</td>\n",
       "      <td>4.0</td>\n",
       "      <td>4.2905</td>\n",
       "      <td>80</td>\n",
       "      <td>135</td>\n",
       "    </tr>\n",
       "  </tbody>\n",
       "</table>\n",
       "</div>"
      ],
      "text/plain": [
       "   AGE  SEX   BMI     BP   S1     S2    S3   S4      S5  S6  PROGRESSION\n",
       "0   59    2  32.1  101.0  157   93.2  38.0  4.0  4.8598  87          151\n",
       "1   48    1  21.6   87.0  183  103.2  70.0  3.0  3.8918  69           75\n",
       "2   72    2  30.5   93.0  156   93.6  41.0  4.0  4.6728  85          141\n",
       "3   24    1  25.3   84.0  198  131.4  40.0  5.0  4.8903  89          206\n",
       "4   50    1  23.0  101.0  192  125.4  52.0  4.0  4.2905  80          135"
      ]
     },
     "execution_count": 37,
     "metadata": {},
     "output_type": "execute_result"
    }
   ],
   "source": [
    "# Import Libraries\n",
    "import numpy as np\n",
    "import pandas as pd\n",
    "import matplotlib.pyplot as plt\n",
    "import seaborn as sns\n",
    "from sklearn.linear_model import LinearRegression\n",
    "from sklearn.preprocessing import MinMaxScaler\n",
    "from sklearn.model_selection import train_test_split\n",
    "from sklearn.preprocessing import StandardScaler\n",
    "\n",
    "# Import the dataset\n",
    "diabetes_df = pd.read_csv(\"diabetes_dirty.csv\")\n",
    "diabetes_df.head()"
   ]
  },
  {
   "cell_type": "markdown",
   "metadata": {},
   "source": [
    "The diabetes_dirty.csv aims to predict a person's progression in the condition \n",
    "with respect to various attributes about them"
   ]
  },
  {
   "cell_type": "code",
   "execution_count": 38,
   "metadata": {},
   "outputs": [],
   "source": [
    "# Differentiate between the independent variables and the dependent variable, \n",
    "# and assign them to variables X and Y\n",
    "\n",
    "# I would say Progression is the dependent variable (variable being predicted)\n",
    "# and all other columns are the independent variables, although not sure \n",
    "# what BP, S1, S2 etc mean.\n",
    "\n",
    "X= diabetes_df.drop(columns=['PROGRESSION'])\n",
    "Y = diabetes_df['PROGRESSION']\n",
    "\n"
   ]
  },
  {
   "cell_type": "code",
   "execution_count": 39,
   "metadata": {},
   "outputs": [
    {
     "name": "stdout",
     "output_type": "stream",
     "text": [
      "X_train      AGE  SEX   BMI     BP   S1     S2    S3   S4      S5   S6\n",
      "0     59    2  32.1  101.0  157   93.2  38.0  4.0  4.8598   87\n",
      "1     48    1  21.6   87.0  183  103.2  70.0  3.0  3.8918   69\n",
      "2     72    2  30.5   93.0  156   93.6  41.0  4.0  4.6728   85\n",
      "3     24    1  25.3   84.0  198  131.4  40.0  5.0  4.8903   89\n",
      "4     50    1  23.0  101.0  192  125.4  52.0  4.0  4.2905   80\n",
      "..   ...  ...   ...    ...  ...    ...   ...  ...     ...  ...\n",
      "348   57    1  24.5   93.0  186   96.6  71.0  3.0  4.5218   91\n",
      "349   49    2  21.0   82.0  119   85.4  23.0  5.0  3.9703   74\n",
      "350   41    2  32.0  126.0  198  104.2  49.0  4.0  5.4116  124\n",
      "351   25    2  22.6   85.0  130   71.0  48.0  3.0  4.0073   81\n",
      "352   52    2  19.7   81.0  152   53.4  82.0  2.0  4.4188   82\n",
      "\n",
      "[353 rows x 10 columns]\n",
      "X_test      AGE  SEX   BMI      BP   S1     S2    S3    S4      S5   S6\n",
      "353   34    1  21.2   84.00  254  113.4  52.0  5.00  6.0936   92\n",
      "354   42    2  30.6  101.00  269  172.2  50.0  5.00  5.4553  106\n",
      "355   28    2  25.5   99.00  162  101.6  46.0  4.00  4.2767   94\n",
      "356   47    2  23.3   90.00  195  125.8  54.0  4.00  4.3307   73\n",
      "357   32    2  31.0  100.00  177   96.2  45.0  4.00  5.1874   77\n",
      "..   ...  ...   ...     ...  ...    ...   ...   ...     ...  ...\n",
      "437   60    2  28.2  112.00  185  113.8  42.0  4.00  4.9836   93\n",
      "438   47    2  24.9   75.00  225  166.0  42.0  5.00  4.4427  102\n",
      "439   60    2  24.9   99.67  162  106.6  43.0  3.77  4.1271   95\n",
      "440   36    1  30.0   95.00  201  125.2  42.0  4.79  5.1299   85\n",
      "441   36    1  19.6   71.00  250  133.2  97.0  3.00  4.5951   92\n",
      "\n",
      "[89 rows x 10 columns]\n",
      "Y_train 0      151\n",
      "1       75\n",
      "2      141\n",
      "3      206\n",
      "4      135\n",
      "      ... \n",
      "348    148\n",
      "349     88\n",
      "350    243\n",
      "351     71\n",
      "352     77\n",
      "Name: PROGRESSION, Length: 353, dtype: int64\n",
      "Y_test 353    109\n",
      "354    272\n",
      "355     60\n",
      "356     54\n",
      "357    221\n",
      "      ... \n",
      "437    178\n",
      "438    104\n",
      "439    132\n",
      "440    220\n",
      "441     57\n",
      "Name: PROGRESSION, Length: 89, dtype: int64\n"
     ]
    }
   ],
   "source": [
    "# Generate training and test sets comprising 80% and 20% of the data respectively\n",
    "\n",
    "X_train, X_test, Y_train, Y_test = train_test_split(X, Y, test_size=0.2, shuffle=False)\n",
    "\n",
    "# I have gone with Shuffle=false here, but should it be true?\n",
    "\n",
    "print(\"X_train {}\".format(X_train))\n",
    "print(\"X_test {}\".format(X_test))\n",
    "print(\"Y_train {}\".format(Y_train))\n",
    "print(\"Y_test {}\".format(Y_test))"
   ]
  },
  {
   "cell_type": "markdown",
   "metadata": {},
   "source": [
    "Many of these variables are on separate scales, some even not clear what scales they are measured on. So the data needs to be normalized or standardized to some degree. Data needs to be plotted to see if it has a normal/Gaussian distribution or not."
   ]
  },
  {
   "cell_type": "code",
   "execution_count": 40,
   "metadata": {},
   "outputs": [
    {
     "data": {
      "text/plain": [
       "<Axes: xlabel='AGE', ylabel='Count'>"
      ]
     },
     "execution_count": 40,
     "metadata": {},
     "output_type": "execute_result"
    },
    {
     "data": {
      "image/png": "[encoded data removed]",
      "text/plain": [
       "<Figure size 640x480 with 1 Axes>"
      ]
     },
     "metadata": {},
     "output_type": "display_data"
    }
   ],
   "source": [
    "# Plot the distribution of the data\n",
    "sns.histplot(diabetes_df['AGE'])\n",
    "sns.histplot(diabetes_df['BMI'])\n",
    "sns.histplot(diabetes_df['S2'])"
   ]
  },
  {
   "cell_type": "markdown",
   "metadata": {},
   "source": [
    "For the sake of simplicity, picking three variables at random we can see that the data is Gaussian distributed, therefore we can use the standardization method and use the StandardScaler method."
   ]
  },
  {
   "cell_type": "code",
   "execution_count": 41,
   "metadata": {},
   "outputs": [
    {
     "name": "stdout",
     "output_type": "stream",
     "text": [
      "Standardized Training Data (First 5 rows):\n",
      "        AGE       SEX       BMI        BP        S1        S2        S3  \\\n",
      "0  0.767844  1.067424  1.347413  0.454906 -0.935888 -0.741500 -0.900815   \n",
      "1 -0.057153 -0.936835 -1.100358 -0.560659 -0.178229 -0.410729  1.521083   \n",
      "2  1.742841  1.067424  0.974420 -0.125417 -0.965029 -0.728269 -0.673762   \n",
      "3 -1.857146 -0.936835 -0.237810 -0.778280  0.258882  0.522048 -0.749446   \n",
      "4  0.092847 -0.936835 -0.773988  0.454906  0.084038  0.323585  0.158766   \n",
      "\n",
      "         S4        S5        S6  \n",
      "0 -0.051951  0.440427 -0.359531  \n",
      "1 -0.808181 -1.457897 -1.937199  \n",
      "2 -0.051951  0.073705 -0.534828  \n",
      "3  0.704279  0.500240 -0.184235  \n",
      "4 -0.051951 -0.676015 -0.973069  \n",
      "\n",
      "Standardized Test Data (First 5 rows):\n",
      "        AGE       SEX       BMI        BP        S1        S2        S3  \\\n",
      "0 -1.107149 -0.936835 -1.193606 -0.778280  1.890762 -0.073341  0.158766   \n",
      "1 -0.507151  1.067424  0.997732  0.454906  2.327873  1.871597  0.007397   \n",
      "2 -1.557147  1.067424 -0.191186  0.309825 -0.790184 -0.463652 -0.295340   \n",
      "3 -0.132152  1.067424 -0.704052 -0.343038  0.171460  0.336816  0.310134   \n",
      "4 -1.257148  1.067424  1.090980  0.382366 -0.353073 -0.642269 -0.371025   \n",
      "\n",
      "         S4        S5        S6  \n",
      "0  0.704279  2.860006  0.078710  \n",
      "1  0.704279  1.608249  1.305784  \n",
      "2 -0.051951 -0.703078  0.254006  \n",
      "3 -0.051951 -0.597179 -1.586606  \n",
      "4 -0.051951  1.082876 -1.236014  \n"
     ]
    }
   ],
   "source": [
    "standard_scaler = StandardScaler()\n",
    "\n",
    "X_train_standardized = standard_scaler.fit_transform(X_train)\n",
    "\n",
    "X_test_standardized = standard_scaler.transform(X_test)\n",
    "\n",
    "# Show the first few rows of the standardized data\n",
    "\n",
    "X_train_standardized_df = pd.DataFrame(X_train_standardized, columns=X.columns)\n",
    "X_test_standardized_df = pd.DataFrame(X_test_standardized, columns=X.columns)\n",
    "\n",
    "print(\"Standardized Training Data (First 5 rows):\")\n",
    "print(X_train_standardized_df.head())\n",
    "\n",
    "print(\"\\nStandardized Test Data (First 5 rows):\")\n",
    "print(X_test_standardized_df.head())"
   ]
  },
  {
   "cell_type": "markdown",
   "metadata": {},
   "source": [
    "Generate a multiple linear regression model using the training set. Use all of the independent variables."
   ]
  },
  {
   "cell_type": "code",
   "execution_count": 42,
   "metadata": {},
   "outputs": [
    {
     "name": "stdout",
     "output_type": "stream",
     "text": [
      "Model Coefficient is:  [ -0.3910393  -11.83513735  23.75759898  13.93817193 -22.45504292\n",
      "  10.08719201  -1.63539055   7.1823309   29.70723812   4.08025422]\n",
      "Model intercept is:  151.4787535410765\n"
     ]
    }
   ],
   "source": [
    "model = LinearRegression()\n",
    "\n",
    "# Fit the model on the standardized training data\n",
    "\n",
    "model.fit(X_train_standardized, Y_train)\n",
    "\n",
    "print(\"Model Coefficient is: \", model.coef_)\n",
    "print(\"Model intercept is: \", model.intercept_)"
   ]
  },
  {
   "cell_type": "markdown",
   "metadata": {},
   "source": [
    "Generate predictions for the test set"
   ]
  },
  {
   "cell_type": "code",
   "execution_count": 43,
   "metadata": {},
   "outputs": [],
   "source": [
    "Y_pred = model.predict(X_test_standardized)"
   ]
  },
  {
   "cell_type": "markdown",
   "metadata": {},
   "source": [
    "Compute R-squared for your model on the test set. You can use r2_score.\n"
   ]
  },
  {
   "cell_type": "code",
   "execution_count": 44,
   "metadata": {},
   "outputs": [
    {
     "name": "stdout",
     "output_type": "stream",
     "text": [
      "R-squared: 0.5437558023550998\n"
     ]
    }
   ],
   "source": [
    "from sklearn.metrics import r2_score\n",
    "\n",
    "r_squared = r2_score(Y_test, Y_pred)\n",
    "\n",
    "print(f\"R-squared: {r_squared}\")\n"
   ]
  },
  {
   "cell_type": "markdown",
   "metadata": {},
   "source": [
    "The R-squared is not too close to 1, so the model does not fit our observations as closely as we would like."
   ]
  }
 ],
 "metadata": {
  "kernelspec": {
   "display_name": "Python 3",
   "language": "python",
   "name": "python3"
  },
  "language_info": {
   "codemirror_mode": {
    "name": "ipython",
    "version": 3
   },
   "file_extension": ".py",
   "mimetype": "text/x-python",
   "name": "python",
   "nbconvert_exporter": "python",
   "pygments_lexer": "ipython3",
   "version": "3.12.4"
  }
 },
 "nbformat": 4,
 "nbformat_minor": 2
}
