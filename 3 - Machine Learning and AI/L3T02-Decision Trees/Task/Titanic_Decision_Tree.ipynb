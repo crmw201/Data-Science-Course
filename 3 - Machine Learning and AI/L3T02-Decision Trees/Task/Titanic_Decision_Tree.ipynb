{
 "cells": [
  {
   "cell_type": "markdown",
   "id": "151c120f",
   "metadata": {},
   "source": [
    "# Titanic Survival Prediction Using Decision Tree"
   ]
  },
  {
   "cell_type": "code",
   "execution_count": null,
   "id": "fe67b62c",
   "metadata": {},
   "outputs": [],
   "source": [
    "\n",
    "# Step 1: Load the Titanic dataset\n",
    "import pandas as pd\n",
    "\n",
    "file_path = '/mnt/data/titanic.csv'\n",
    "titanic_data = pd.read_csv(file_path)\n",
    "\n",
    "# Display the first few rows of the dataset to understand its structure\n",
    "titanic_data.head()\n"
   ]
  },
  {
   "cell_type": "markdown",
   "id": "8f4f02bb",
   "metadata": {},
   "source": [
    "### Step 1: Preprocess Data"
   ]
  },
  {
   "cell_type": "code",
   "execution_count": null,
   "id": "bf2e740a",
   "metadata": {},
   "outputs": [],
   "source": [
    "\n",
    "# Map categorical data to numerical values and handle missing values\n",
    "titanic_data['Sex'] = titanic_data['Sex'].map({'male': 0, 'female': 1})\n",
    "titanic_data['Embarked'] = titanic_data['Embarked'].map({'C': 0, 'Q': 1, 'S': 2})\n",
    "titanic_data['Age'].fillna(titanic_data['Age'].median(), inplace=True)\n",
    "titanic_data['Embarked'].fillna(titanic_data['Embarked'].mode()[0], inplace=True)\n"
   ]
  },
  {
   "cell_type": "markdown",
   "id": "e7e598ff",
   "metadata": {},
   "source": [
    "### Step 2: Selecting Features"
   ]
  },
  {
   "cell_type": "code",
   "execution_count": null,
   "id": "4283c7db",
   "metadata": {},
   "outputs": [],
   "source": [
    "\n",
    "# Choose relevant features for the model\n",
    "selected_features = ['Pclass', 'Sex', 'Age', 'SibSp', 'Parch', 'Fare', 'Embarked']\n",
    "X = titanic_data[selected_features]\n",
    "y = titanic_data['Survived']\n"
   ]
  },
  {
   "cell_type": "markdown",
   "id": "326a5583",
   "metadata": {},
   "source": [
    "### Step 3: Split the Data"
   ]
  },
  {
   "cell_type": "code",
   "execution_count": null,
   "id": "504beff7",
   "metadata": {},
   "outputs": [],
   "source": [
    "\n",
    "# Split data into training, development, and test sets\n",
    "from sklearn.model_selection import train_test_split\n",
    "\n",
    "X_train, X_temp, y_train, y_temp = train_test_split(X, y, test_size=0.4, random_state=42)\n",
    "X_dev, X_test, y_dev, y_test = train_test_split(X_temp, y_temp, test_size=0.5, random_state=42)\n"
   ]
  },
  {
   "cell_type": "markdown",
   "id": "427b012d",
   "metadata": {},
   "source": [
    "### Step 4: Train and Plot a Decision Tree"
   ]
  },
  {
   "cell_type": "code",
   "execution_count": null,
   "id": "8069856e",
   "metadata": {},
   "outputs": [],
   "source": [
    "\n",
    "from sklearn.tree import DecisionTreeClassifier, plot_tree\n",
    "import matplotlib.pyplot as plt\n",
    "\n",
    "# Train a decision tree with a specified max depth\n",
    "decision_tree = DecisionTreeClassifier(max_depth=3, random_state=42)\n",
    "decision_tree.fit(X_train, y_train)\n",
    "\n",
    "# Plot the decision tree\n",
    "plt.figure(figsize=(12, 8))\n",
    "plot_tree(decision_tree, feature_names=selected_features, class_names=[\"Not Survived\", \"Survived\"], filled=True)\n",
    "plt.title(\"Decision Tree with max_depth=3\")\n",
    "plt.show()\n"
   ]
  },
  {
   "cell_type": "markdown",
   "id": "14677c48",
   "metadata": {},
   "source": [
    "### Step 5: Compute Development Accuracy"
   ]
  },
  {
   "cell_type": "code",
   "execution_count": null,
   "id": "2e551390",
   "metadata": {},
   "outputs": [],
   "source": [
    "\n",
    "from sklearn.metrics import accuracy_score\n",
    "\n",
    "# Predict and compute development accuracy\n",
    "dev_predictions = decision_tree.predict(X_dev)\n",
    "dev_accuracy = accuracy_score(y_dev, dev_predictions)\n",
    "dev_accuracy\n"
   ]
  },
  {
   "cell_type": "markdown",
   "id": "ec0318d5",
   "metadata": {},
   "source": [
    "### Step 6: Model with Different Max Depths"
   ]
  },
  {
   "cell_type": "code",
   "execution_count": null,
   "id": "46334bf7",
   "metadata": {},
   "outputs": [],
   "source": [
    "\n",
    "training_accuracies = []\n",
    "development_accuracies = []\n",
    "\n",
    "for depth in range(2, 11):\n",
    "    # Train decision tree with specified max depth\n",
    "    model = DecisionTreeClassifier(max_depth=depth, random_state=42)\n",
    "    model.fit(X_train, y_train)\n",
    "    \n",
    "    # Compute accuracies\n",
    "    train_accuracy = accuracy_score(y_train, model.predict(X_train))\n",
    "    dev_accuracy = accuracy_score(y_dev, model.predict(X_dev))\n",
    "    \n",
    "    # Store accuracies\n",
    "    training_accuracies.append(train_accuracy)\n",
    "    development_accuracies.append(dev_accuracy)\n",
    "    \n",
    "    # Plot the tree\n",
    "    plt.figure(figsize=(12, 8))\n",
    "    plot_tree(model, feature_names=selected_features, class_names=[\"Not Survived\", \"Survived\"], filled=True)\n",
    "    plt.title(f\"Decision Tree with max_depth={depth}\")\n",
    "    plt.show()\n"
   ]
  },
  {
   "cell_type": "markdown",
   "id": "e89bfd02",
   "metadata": {},
   "source": [
    "### Step 7: Plot Training and Development Accuracies"
   ]
  },
  {
   "cell_type": "code",
   "execution_count": null,
   "id": "92cac565",
   "metadata": {},
   "outputs": [],
   "source": [
    "\n",
    "# Plot accuracy curves\n",
    "plt.figure(figsize=(10, 6))\n",
    "plt.plot(range(2, 11), training_accuracies, marker='o', label='Training Accuracy')\n",
    "plt.plot(range(2, 11), development_accuracies, marker='s', label='Development Accuracy')\n",
    "plt.xlabel('Max Depth')\n",
    "plt.ylabel('Accuracy')\n",
    "plt.title('Training and Development Accuracies vs Max Depth')\n",
    "plt.legend()\n",
    "plt.grid()\n",
    "plt.show()\n"
   ]
  },
  {
   "cell_type": "markdown",
   "id": "f701b606",
   "metadata": {},
   "source": [
    "### Step 8: Analyze Line Shape"
   ]
  },
  {
   "cell_type": "markdown",
   "id": "3c9476ea",
   "metadata": {},
   "source": [
    "\n",
    "The training accuracy increases consistently as the max depth grows, eventually reaching 100%. However, the development accuracy peaks at a certain depth and starts to decline, indicating overfitting. The optimal depth is where development accuracy is highest.\n"
   ]
  },
  {
   "cell_type": "markdown",
   "id": "db100db1",
   "metadata": {},
   "source": [
    "### Step 9: Report Test Accuracy"
   ]
  },
  {
   "cell_type": "code",
   "execution_count": null,
   "id": "4074a374",
   "metadata": {},
   "outputs": [],
   "source": [
    "\n",
    "# Identify the optimal depth (where development accuracy peaks)\n",
    "import numpy as np\n",
    "\n",
    "optimal_depth = np.argmax(development_accuracies) + 2  # Adding 2 as range starts from 2\n",
    "final_model = DecisionTreeClassifier(max_depth=optimal_depth, random_state=42)\n",
    "final_model.fit(X_train, y_train)\n",
    "\n",
    "# Compute test accuracy\n",
    "test_predictions = final_model.predict(X_test)\n",
    "test_accuracy = accuracy_score(y_test, test_predictions)\n",
    "\n",
    "optimal_depth, test_accuracy\n"
   ]
  }
 ],
 "metadata": {},
 "nbformat": 4,
 "nbformat_minor": 5
}
